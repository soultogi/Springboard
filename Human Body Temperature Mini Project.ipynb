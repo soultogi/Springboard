{
 "cells": [
  {
   "cell_type": "markdown",
   "metadata": {},
   "source": [
    "# What is the True Normal Human Body Temperature? \n",
    "\n",
    "#### Background\n",
    "\n",
    "The mean normal body temperature was held to be 37$^{\\circ}$C or 98.6$^{\\circ}$F for more than 120 years since it was first conceptualized and reported by Carl Wunderlich in a famous 1868 book. But, is this value statistically correct?"
   ]
  },
  {
   "cell_type": "markdown",
   "metadata": {},
   "source": [
    "<h3>Exercises</h3>\n",
    "\n",
    "<p>In this exercise, you will analyze a dataset of human body temperatures and employ the concepts of hypothesis testing, confidence intervals, and statistical significance.</p>\n",
    "\n",
    "<p>Answer the following questions <b>in this notebook below and submit to your Github account</b>.</p> \n",
    "\n",
    "<ol>\n",
    "<li>  Is the distribution of body temperatures normal? \n",
    "    <ul>\n",
    "    <li> Although this is not a requirement for the Central Limit Theorem to hold (read the introduction on Wikipedia's page about the CLT carefully: https://en.wikipedia.org/wiki/Central_limit_theorem), it gives us some peace of mind that the population may also be normally distributed if we assume that this sample is representative of the population.\n",
    "    <li> Think about the way you're going to check for the normality of the distribution. Graphical methods are usually used first, but there are also other ways: https://en.wikipedia.org/wiki/Normality_test\n",
    "    </ul>\n",
    "<li>  Is the sample size large? Are the observations independent?\n",
    "    <ul>\n",
    "    <li> Remember that this is a condition for the Central Limit Theorem, and hence the statistical tests we are using, to apply.\n",
    "    </ul>\n",
    "<li>  Is the true population mean really 98.6 degrees F?\n",
    "    <ul>\n",
    "    <li> First, try a bootstrap hypothesis test.\n",
    "    <li> Now, let's try frequentist statistical testing. Would you use a one-sample or two-sample test? Why?\n",
    "    <li> In this situation, is it appropriate to use the $t$ or $z$ statistic? \n",
    "    <li> Now try using the other test. How is the result be different? Why?\n",
    "    </ul>\n",
    "<li>  Draw a small sample of size 10 from the data and repeat both frequentist tests. \n",
    "    <ul>\n",
    "    <li> Which one is the correct one to use? \n",
    "    <li> What do you notice? What does this tell you about the difference in application of the $t$ and $z$ statistic?\n",
    "    </ul>\n",
    "<li>  At what temperature should we consider someone's temperature to be \"abnormal\"?\n",
    "    <ul>\n",
    "    <li> As in the previous example, try calculating everything using the boostrap approach, as well as the frequentist approach.\n",
    "    <li> Start by computing the margin of error and confidence interval. When calculating the confidence interval, keep in mind that you should use the appropriate formula for one draw, and not N draws.\n",
    "    </ul>\n",
    "<li>  Is there a significant difference between males and females in normal temperature?\n",
    "    <ul>\n",
    "    <li> What testing approach did you use and why?\n",
    "    <li> Write a story with your conclusion in the context of the original problem.\n",
    "    </ul>\n",
    "</ol>\n",
    "\n",
    "You can include written notes in notebook cells using Markdown: \n",
    "   - In the control panel at the top, choose Cell > Cell Type > Markdown\n",
    "   - Markdown syntax: http://nestacms.com/docs/creating-content/markdown-cheat-sheet\n",
    "\n",
    "#### Resources\n",
    "\n",
    "+ Information and data sources: http://www.amstat.org/publications/jse/datasets/normtemp.txt, http://www.amstat.org/publications/jse/jse_data_archive.htm\n",
    "+ Markdown syntax: http://nestacms.com/docs/creating-content/markdown-cheat-sheet\n",
    "\n",
    "****"
   ]
  },
  {
   "cell_type": "code",
   "execution_count": 75,
   "metadata": {},
   "outputs": [],
   "source": [
    "import pandas as pd\n",
    "import numpy as np\n",
    "import seaborn as sns\n",
    "import matplotlib.pyplot as plt\n",
    "from scipy import stats\n",
    "import pylab\n",
    "\n",
    "np.random.seed(1618)"
   ]
  },
  {
   "cell_type": "code",
   "execution_count": 9,
   "metadata": {},
   "outputs": [],
   "source": [
    "df = pd.read_csv('data/human_body_temperature.csv')"
   ]
  },
  {
   "cell_type": "code",
   "execution_count": 10,
   "metadata": {},
   "outputs": [
    {
     "data": {
      "text/html": [
       "<div>\n",
       "<style scoped>\n",
       "    .dataframe tbody tr th:only-of-type {\n",
       "        vertical-align: middle;\n",
       "    }\n",
       "\n",
       "    .dataframe tbody tr th {\n",
       "        vertical-align: top;\n",
       "    }\n",
       "\n",
       "    .dataframe thead th {\n",
       "        text-align: right;\n",
       "    }\n",
       "</style>\n",
       "<table border=\"1\" class=\"dataframe\">\n",
       "  <thead>\n",
       "    <tr style=\"text-align: right;\">\n",
       "      <th></th>\n",
       "      <th>temperature</th>\n",
       "      <th>gender</th>\n",
       "      <th>heart_rate</th>\n",
       "    </tr>\n",
       "  </thead>\n",
       "  <tbody>\n",
       "    <tr>\n",
       "      <th>0</th>\n",
       "      <td>99.3</td>\n",
       "      <td>F</td>\n",
       "      <td>68.0</td>\n",
       "    </tr>\n",
       "    <tr>\n",
       "      <th>1</th>\n",
       "      <td>98.4</td>\n",
       "      <td>F</td>\n",
       "      <td>81.0</td>\n",
       "    </tr>\n",
       "    <tr>\n",
       "      <th>2</th>\n",
       "      <td>97.8</td>\n",
       "      <td>M</td>\n",
       "      <td>73.0</td>\n",
       "    </tr>\n",
       "    <tr>\n",
       "      <th>3</th>\n",
       "      <td>99.2</td>\n",
       "      <td>F</td>\n",
       "      <td>66.0</td>\n",
       "    </tr>\n",
       "    <tr>\n",
       "      <th>4</th>\n",
       "      <td>98.0</td>\n",
       "      <td>F</td>\n",
       "      <td>73.0</td>\n",
       "    </tr>\n",
       "  </tbody>\n",
       "</table>\n",
       "</div>"
      ],
      "text/plain": [
       "   temperature gender  heart_rate\n",
       "0         99.3      F        68.0\n",
       "1         98.4      F        81.0\n",
       "2         97.8      M        73.0\n",
       "3         99.2      F        66.0\n",
       "4         98.0      F        73.0"
      ]
     },
     "execution_count": 10,
     "metadata": {},
     "output_type": "execute_result"
    }
   ],
   "source": [
    "df.head()"
   ]
  },
  {
   "cell_type": "code",
   "execution_count": 11,
   "metadata": {},
   "outputs": [
    {
     "data": {
      "text/html": [
       "<div>\n",
       "<style scoped>\n",
       "    .dataframe tbody tr th:only-of-type {\n",
       "        vertical-align: middle;\n",
       "    }\n",
       "\n",
       "    .dataframe tbody tr th {\n",
       "        vertical-align: top;\n",
       "    }\n",
       "\n",
       "    .dataframe thead th {\n",
       "        text-align: right;\n",
       "    }\n",
       "</style>\n",
       "<table border=\"1\" class=\"dataframe\">\n",
       "  <thead>\n",
       "    <tr style=\"text-align: right;\">\n",
       "      <th></th>\n",
       "      <th>temperature</th>\n",
       "      <th>gender</th>\n",
       "      <th>heart_rate</th>\n",
       "    </tr>\n",
       "  </thead>\n",
       "  <tbody>\n",
       "    <tr>\n",
       "      <th>125</th>\n",
       "      <td>96.3</td>\n",
       "      <td>M</td>\n",
       "      <td>70.0</td>\n",
       "    </tr>\n",
       "    <tr>\n",
       "      <th>126</th>\n",
       "      <td>97.7</td>\n",
       "      <td>M</td>\n",
       "      <td>77.0</td>\n",
       "    </tr>\n",
       "    <tr>\n",
       "      <th>127</th>\n",
       "      <td>98.2</td>\n",
       "      <td>F</td>\n",
       "      <td>73.0</td>\n",
       "    </tr>\n",
       "    <tr>\n",
       "      <th>128</th>\n",
       "      <td>97.9</td>\n",
       "      <td>M</td>\n",
       "      <td>72.0</td>\n",
       "    </tr>\n",
       "    <tr>\n",
       "      <th>129</th>\n",
       "      <td>98.7</td>\n",
       "      <td>F</td>\n",
       "      <td>59.0</td>\n",
       "    </tr>\n",
       "  </tbody>\n",
       "</table>\n",
       "</div>"
      ],
      "text/plain": [
       "     temperature gender  heart_rate\n",
       "125         96.3      M        70.0\n",
       "126         97.7      M        77.0\n",
       "127         98.2      F        73.0\n",
       "128         97.9      M        72.0\n",
       "129         98.7      F        59.0"
      ]
     },
     "execution_count": 11,
     "metadata": {},
     "output_type": "execute_result"
    }
   ],
   "source": [
    "df.tail()"
   ]
  },
  {
   "cell_type": "code",
   "execution_count": 12,
   "metadata": {},
   "outputs": [
    {
     "name": "stdout",
     "output_type": "stream",
     "text": [
      "<class 'pandas.core.frame.DataFrame'>\n",
      "RangeIndex: 130 entries, 0 to 129\n",
      "Data columns (total 3 columns):\n",
      "temperature    130 non-null float64\n",
      "gender         130 non-null object\n",
      "heart_rate     130 non-null float64\n",
      "dtypes: float64(2), object(1)\n",
      "memory usage: 3.1+ KB\n"
     ]
    }
   ],
   "source": [
    "df.info()"
   ]
  },
  {
   "cell_type": "code",
   "execution_count": 14,
   "metadata": {},
   "outputs": [
    {
     "data": {
      "text/html": [
       "<div>\n",
       "<style scoped>\n",
       "    .dataframe tbody tr th:only-of-type {\n",
       "        vertical-align: middle;\n",
       "    }\n",
       "\n",
       "    .dataframe tbody tr th {\n",
       "        vertical-align: top;\n",
       "    }\n",
       "\n",
       "    .dataframe thead th {\n",
       "        text-align: right;\n",
       "    }\n",
       "</style>\n",
       "<table border=\"1\" class=\"dataframe\">\n",
       "  <thead>\n",
       "    <tr style=\"text-align: right;\">\n",
       "      <th></th>\n",
       "      <th>temperature</th>\n",
       "      <th>heart_rate</th>\n",
       "    </tr>\n",
       "  </thead>\n",
       "  <tbody>\n",
       "    <tr>\n",
       "      <th>count</th>\n",
       "      <td>130.000000</td>\n",
       "      <td>130.000000</td>\n",
       "    </tr>\n",
       "    <tr>\n",
       "      <th>mean</th>\n",
       "      <td>98.249231</td>\n",
       "      <td>73.761538</td>\n",
       "    </tr>\n",
       "    <tr>\n",
       "      <th>std</th>\n",
       "      <td>0.733183</td>\n",
       "      <td>7.062077</td>\n",
       "    </tr>\n",
       "    <tr>\n",
       "      <th>min</th>\n",
       "      <td>96.300000</td>\n",
       "      <td>57.000000</td>\n",
       "    </tr>\n",
       "    <tr>\n",
       "      <th>25%</th>\n",
       "      <td>97.800000</td>\n",
       "      <td>69.000000</td>\n",
       "    </tr>\n",
       "    <tr>\n",
       "      <th>50%</th>\n",
       "      <td>98.300000</td>\n",
       "      <td>74.000000</td>\n",
       "    </tr>\n",
       "    <tr>\n",
       "      <th>75%</th>\n",
       "      <td>98.700000</td>\n",
       "      <td>79.000000</td>\n",
       "    </tr>\n",
       "    <tr>\n",
       "      <th>max</th>\n",
       "      <td>100.800000</td>\n",
       "      <td>89.000000</td>\n",
       "    </tr>\n",
       "  </tbody>\n",
       "</table>\n",
       "</div>"
      ],
      "text/plain": [
       "       temperature  heart_rate\n",
       "count   130.000000  130.000000\n",
       "mean     98.249231   73.761538\n",
       "std       0.733183    7.062077\n",
       "min      96.300000   57.000000\n",
       "25%      97.800000   69.000000\n",
       "50%      98.300000   74.000000\n",
       "75%      98.700000   79.000000\n",
       "max     100.800000   89.000000"
      ]
     },
     "execution_count": 14,
     "metadata": {},
     "output_type": "execute_result"
    }
   ],
   "source": [
    "df.describe()"
   ]
  },
  {
   "cell_type": "code",
   "execution_count": 54,
   "metadata": {},
   "outputs": [
    {
     "data": {
      "image/png": "[encoded data removed]",
      "text/plain": [
       "<Figure size 432x288 with 4 Axes>"
      ]
     },
     "metadata": {
      "needs_background": "light"
     },
     "output_type": "display_data"
    }
   ],
   "source": [
    "init_plot = plt.subplot(3,2,1)\n",
    "init_plot = plt.hist(df.temperature, bins = 15)\n",
    "init_plot = plt.title('Temperature Histogram')\n",
    "init_plot = plt.xlabel('Temperature F')\n",
    "\n",
    "init_plot = plt.subplot(3,2,2)\n",
    "init_plot = sns.boxplot(x = 'temperature' , data=df)\n",
    "init_plot = plt.title('Temperature Box-plot')\n",
    "\n",
    "init_plot = plt.subplot(3,2,5)\n",
    "init_plot = plt.hist(df.heart_rate, bins=15)\n",
    "init_plot = plt.title('Heart Rate Histogram')\n",
    "init_plot = plt.xlabel('Heart Rate rpm')\n",
    "\n",
    "init_plot = plt.subplot(3,2,6)\n",
    "init_plot = sns.boxplot(x = 'heart_rate', data = df)\n",
    "init_plot = plt.title('Heart Rate Box-plot')\n",
    "\n",
    "plt.show()"
   ]
  },
  {
   "cell_type": "code",
   "execution_count": 60,
   "metadata": {},
   "outputs": [
    {
     "name": "stdout",
     "output_type": "stream",
     "text": [
      " Human body temperature data is normally distributed. Shapiro - Wilk Normality test with 0.05 alpha level indicates that 0.2331680953502655 p-value which can't reject the null hypothesis, with 0.9865769743919373 test statistic\n"
     ]
    }
   ],
   "source": [
    "#Although histogram is has a bell shape there is at least positive skewness and proper normality test should be done.\n",
    "#Shapira-Wilk Normality test is choosen for this and it has a built in function in scipy/stats library.\n",
    "#Test has 95% confidence interval and returns W test statistic and p-value for hypothesis testing.\n",
    "#Null hypothesis is \"Data has normal distibution\" \n",
    "\n",
    "norm_test = stats.shapiro(df.temperature)\n",
    "\n",
    "print(' Human body temperature data is normally distributed. Shapiro - Wilk Normality test with 0.05 alpha level indicates that', norm_test[1], \"p-value which can't reject the null hypothesis, with\" , norm_test[0], 'test statistic')"
   ]
  },
  {
   "cell_type": "code",
   "execution_count": 64,
   "metadata": {},
   "outputs": [
    {
     "data": {
      "image/png": "[encoded data removed]",
      "text/plain": [
       "<Figure size 432x288 with 1 Axes>"
      ]
     },
     "metadata": {
      "needs_background": "light"
     },
     "output_type": "display_data"
    }
   ],
   "source": [
    "# Also Q_Q plot is another way of testing the normality\n",
    "\n",
    "stats.probplot(df.temperature, dist=\"norm\", plot=pylab)\n",
    "pylab.show()"
   ]
  },
  {
   "cell_type": "markdown",
   "metadata": {},
   "source": [
    "Q2 - Is the sample size large? Are the observations independent?\n",
    "Remember that this is a condition for the Central Limit Theorem, and hence the statistical tests we are using, to apply."
   ]
  },
  {
   "cell_type": "markdown",
   "metadata": {},
   "source": [
    "Classical statistics theory, researches suggests that Central Limit's large enough sample size is 30.(ie. Hogg and Tanis Probability and Statistical Inference) The number is highly dependent on the variables that will be used during analyses but as a rule of thumb CLT, good enough sample size is 30. Since we have 130 observations, our sample size is big enough."
   ]
  },
  {
   "cell_type": "markdown",
   "metadata": {},
   "source": [
    "Q3- \n",
    "Is the true population mean really 98.6 degrees F?\n",
    "First, try a bootstrap hypothesis test.\n",
    "Now, let's try frequentist statistical testing. Would you use a one-sample or two-sample test? Why?\n",
    "In this situation, is it appropriate to use the  𝑡  or  𝑧  statistic?\n",
    "Now try using the other test. How is the result be different? Why?"
   ]
  },
  {
   "cell_type": "code",
   "execution_count": 66,
   "metadata": {},
   "outputs": [
    {
     "data": {
      "text/plain": [
       "count    130.000000\n",
       "mean      98.249231\n",
       "std        0.733183\n",
       "min       96.300000\n",
       "25%       97.800000\n",
       "50%       98.300000\n",
       "75%       98.700000\n",
       "max      100.800000\n",
       "Name: temperature, dtype: float64"
      ]
     },
     "execution_count": 66,
     "metadata": {},
     "output_type": "execute_result"
    }
   ],
   "source": [
    "df.temperature.describe()"
   ]
  },
  {
   "cell_type": "markdown",
   "metadata": {},
   "source": [
    "H0 : Population mean is 98.6 degF\n",
    "H1 : Population mean is not 98.6 degF"
   ]
  },
  {
   "cell_type": "code",
   "execution_count": 125,
   "metadata": {},
   "outputs": [
    {
     "name": "stdout",
     "output_type": "stream",
     "text": [
      "mean temp :  98.24923076923078\n",
      "std temp :  0.7303577789050377\n",
      "H0 is rejected, mean body temperature is not equal to 98.6 and p-value is : 0.0\n",
      "Wall time: 452 ms\n"
     ]
    }
   ],
   "source": [
    "%%time\n",
    "\n",
    "def ecdf(data):\n",
    "    \"\"\" sorts the data ascending order, calculates a y axis 0 to 1\"\"\"\n",
    "    x = np.sort(data)\n",
    "    y = np.arange(1, len(data)+1)/len(data)\n",
    "    return x, y\n",
    "\n",
    "def boost(data, func, hypo=0, size=1):\n",
    "    ''' bootsrap samples the data, calculates the function and replicates it'''\n",
    "    boostsample = np.empty(size)\n",
    "    for i in range(size):\n",
    "        boostsample[i] = func(np.random.choice(data, size=len(data)))-hypo\n",
    "    return boostsample\n",
    "\n",
    "temp = df.temperature \n",
    "\n",
    "meantemp = np.mean(temp)\n",
    "print('mean temp : ', meantemp)\n",
    "stdtemp = np.std(temp)\n",
    "print('std temp : ', stdtemp)\n",
    "\n",
    "\n",
    "# Bootstrap Hypothesis Testing - one sample\n",
    "shifted = temp - np.mean(temp) + 98.6\n",
    "\n",
    "test = boost(shifted, np.mean, hypo=98.6, size=10000)\n",
    "\n",
    "test_statistic = np.mean(temp) - 98.6\n",
    "\n",
    "p = np.sum(test <= test_statistic)/10000\n",
    "\n",
    "if p <= 0.05:\n",
    "    print('H0 is rejected, mean body temperature is not equal to 98.6 and p-value is :', p)\n",
    "else:\n",
    "    print(\"H0 can't be rejected\")\n"
   ]
  },
  {
   "cell_type": "markdown",
   "metadata": {},
   "source": [
    "Since we are comparing one dataset with another single metric, one-sample tests are appropriate to use. Also, our sample size is 130. According to CLT, sample sizes above 30, sample standart deviation is a good enough estimator of the population standart deviation and the z-scores calculated with sample standart deviation will be normally distributed. With the sample size 130, z-score is the correct statistic to use."
   ]
  },
  {
   "cell_type": "code",
   "execution_count": 150,
   "metadata": {},
   "outputs": [
    {
     "name": "stdout",
     "output_type": "stream",
     "text": [
      "-5.475925202078116\n"
     ]
    }
   ],
   "source": [
    "z_score = (np.mean(temp)-98.6)/(np.std(temp)/np.sqrt(len(temp)))\n",
    "print(z_score)\n",
    "\n",
    "# t-score will be calculated exactly with the same equation, values will be same\n",
    "# H0 hypotheses will be rejected according to both z-score and t-value\n"
   ]
  },
  {
   "cell_type": "markdown",
   "metadata": {},
   "source": [
    "Q4- Draw a small sample of size 10 from the data and repeat both frequentist tests.\n",
    "Which one is the correct one to use?\n",
    "What do you notice? What does this tell you about the difference in application of the  𝑡  and  𝑧  statistic?"
   ]
  },
  {
   "cell_type": "code",
   "execution_count": 158,
   "metadata": {},
   "outputs": [
    {
     "name": "stdout",
     "output_type": "stream",
     "text": [
      "[97.4 98.2 98.1 99.1 97.9 98.2 98.2 97.9 98.8 98.2]\n",
      "z-score is :  -2.6832815729997095 p-value is :  0.00729035809153647\n",
      "t-score is :  -2.6832815729997095 p-value is :  0.02507092187318522\n"
     ]
    }
   ],
   "source": [
    "sample10 = np.random.choice(temp, size=10)\n",
    "print(sample10)\n",
    "\n",
    "# with the sample size \n",
    "from statsmodels.stats.weightstats import ztest\n",
    "\n",
    "z_score, p_valz = ztest(sample10, value=98.6, alternative='two-sided')\n",
    "\n",
    "print('z-score is : ', z_score, 'p-value is : ', p_valz)\n",
    "\n",
    "t_score, p_valt = stats.ttest_1samp(sample10, popmean=98.6)\n",
    "\n",
    "print('t-score is : ', t_score, 'p-value is : ', p_valt)\n",
    "\n",
    "#z-score rejects the null hypothesis while t-score can't, but the correct statistic to use t-score so H0 can't be rejected\n",
    "# this functions has a glitch, z and t scores are exactly the same, this shouldn't be the case needs additional check\n"
   ]
  },
  {
   "cell_type": "markdown",
   "metadata": {},
   "source": [
    "Since the sample size is 10, smaller than the CLT acceptable large size which is 30. True statistic is t-score, this distribution is specifically modelled for small sample sizes and get's corrected by the degree's of freedom, since it eliminates the previous variance information about population sample. As we can see from the above calculated scores, although due to randomization at the beginning of the cell might affect the results, in most cases while z-score rejects the H0 hypothesis, t-score can't and since the true statistic is t-score, scientifically right result will be not rejecting H0."
   ]
  },
  {
   "cell_type": "markdown",
   "metadata": {},
   "source": [
    "Q5- \n",
    "At what temperature should we consider someone's temperature to be \"abnormal\"?\n",
    "As in the previous example, try calculating everything using the boostrap approach, as well as the frequentist approach.\n",
    "Start by computing the margin of error and confidence interval. When calculating the confidence interval, keep in mind that you should use the appropriate formula for one draw, and not N draws.\n"
   ]
  },
  {
   "cell_type": "code",
   "execution_count": 177,
   "metadata": {},
   "outputs": [
    {
     "name": "stdout",
     "output_type": "stream",
     "text": [
      "mean is:  98.24997238461538 var is:  0.004060410184136106 std is:  0.06372134794663485\n"
     ]
    },
    {
     "data": {
      "image/png": "[encoded data removed]",
      "text/plain": [
       "<Figure size 432x288 with 1 Axes>"
      ]
     },
     "metadata": {
      "needs_background": "light"
     },
     "output_type": "display_data"
    },
    {
     "data": {
      "image/png": "[encoded data removed]",
      "text/plain": [
       "<Figure size 432x288 with 1 Axes>"
      ]
     },
     "metadata": {
      "needs_background": "light"
     },
     "output_type": "display_data"
    },
    {
     "data": {
      "image/png": "[encoded data removed]",
      "text/plain": [
       "<Figure size 432x288 with 1 Axes>"
      ]
     },
     "metadata": {
      "needs_background": "light"
     },
     "output_type": "display_data"
    }
   ],
   "source": [
    "abnormal = boost(temp, np.mean, size=10000)\n",
    "mean_abn = np.mean(abnormal)\n",
    "var_abn = np.var(abnormal)\n",
    "std_abn = np.std(abnormal)\n",
    "print('mean is: ', mean_abn, 'var is: ', var_abn, 'std is: ', std_abn)\n",
    "\n",
    "xab, yab = ecdf(abnormal)\n",
    "\n",
    "j1 = plt.hist(abnormal, bins=20, color='green', density=True)\n",
    "j1 = plt.xlabel('10K bootsrap temp distribution')\n",
    "plt.show()\n",
    "j2 = plt.plot(xab, yab, marker='o', linestyle='none')\n",
    "j2 = plt.xlabel('ECDF 10K bootstrap temp observations')\n",
    "plt.show()\n",
    "j3 = sns.boxplot(abnormal)\n",
    "j3 = plt.xlabel('10K bootsrap temp outlier detection')\n",
    "plt.show()\n",
    "\n",
    "\n",
    "\n"
   ]
  },
  {
   "cell_type": "code",
   "execution_count": 236,
   "metadata": {},
   "outputs": [
    {
     "name": "stdout",
     "output_type": "stream",
     "text": [
      "10K bootsrap median is:  98.25076923076925\n",
      "[98.20692308 98.29307692]\n",
      "25th quantile is:  98.20692307692309 75th quanile is: 98.29307692307694\n",
      "95% confidence is : [98.12384615 98.37384615]\n"
     ]
    }
   ],
   "source": [
    "#There are so many outliers in the bootsrapped data, mean value might be affected by this outliers, and also all outliers \n",
    "#can mean statistically abnormal values.\n",
    "\n",
    "median_abn = np.median(abnormal)\n",
    "print('10K bootsrap median is: ', median_abn)\n",
    "quart_abn = np.percentile(abnormal, [25, 75])\n",
    "print(quart_abn)\n",
    "print('25th quantile is: ', quart_abn[0], '75th quanile is:', quart_abn[1])\n",
    "extr_abn = np.percentile(abnormal, [2.5, 97.5])\n",
    "print('95% confidence is :', extr_abn)"
   ]
  },
  {
   "cell_type": "markdown",
   "metadata": {},
   "source": [
    "Non-normality should be defined by the health professionals and must be tested by scientists. But interms of statistical meaning 95% confidence intervals are the common acceptable level for most of the theses. In perfect normal distribution this means 2 times variance below and above mean. Without a scientific background research, 95% confidence interval can be used to identify abnormal levels of human body temperature.\n",
    "\n",
    "Below 98.13 degF and above 98.37 degF is statistically abnormal levels of humanbody temperature."
   ]
  },
  {
   "cell_type": "markdown",
   "metadata": {},
   "source": [
    "Q6-\n",
    "Is there a significant difference between males and females in normal temperature?\n",
    "What testing approach did you use and why?\n",
    "Write a story with your conclusion in the context of the original problem."
   ]
  },
  {
   "cell_type": "code",
   "execution_count": 187,
   "metadata": {},
   "outputs": [
    {
     "data": {
      "image/png": "[encoded data removed]",
      "text/plain": [
       "<Figure size 432x288 with 1 Axes>"
      ]
     },
     "metadata": {
      "needs_background": "light"
     },
     "output_type": "display_data"
    }
   ],
   "source": [
    "j4 = sns.boxplot(y=df.temperature, x=df.gender)\n",
    "j4 = plt.xlabel('gender distribution')\n",
    "j4 = plt.show()"
   ]
  },
  {
   "cell_type": "code",
   "execution_count": 199,
   "metadata": {},
   "outputs": [
    {
     "name": "stdout",
     "output_type": "stream",
     "text": [
      "Mean female body temperature is : 98.39384615384613\n",
      "Mean male body temperature is : 98.1046153846154\n"
     ]
    }
   ],
   "source": [
    "fem_df= df[df.gender == 'F']\n",
    "mal_df = df[df.gender == 'M']\n",
    "fem_temp = fem_df.temperature\n",
    "mal_temp = mal_df.temperature\n",
    "\n",
    "mean_femtemp = np.mean(fem_temp)\n",
    "mean_maltemp = np.mean(mal_temp)\n",
    "\n",
    "print('Mean female body temperature is :', mean_femtemp)\n",
    "print('Mean male body temperature is :', mean_maltemp)"
   ]
  },
  {
   "cell_type": "code",
   "execution_count": 205,
   "metadata": {},
   "outputs": [
    {
     "data": {
      "image/png": "[encoded data removed]",
      "text/plain": [
       "<Figure size 432x288 with 1 Axes>"
      ]
     },
     "metadata": {
      "needs_background": "light"
     },
     "output_type": "display_data"
    }
   ],
   "source": [
    "xf, yf = ecdf(fem_temp)\n",
    "xm, ym = ecdf(mal_temp)\n",
    "\n",
    "j5 = plt.plot(xf, yf, linestyle='none', color='red', marker='+')\n",
    "j5 = plt.xlabel('Female & Male Body Temperature ECDF')\n",
    "j6 = plt.plot(xm, ym, linestyle='none', color='blue', marker='+')\n",
    "j6 = plt.legend(['Female', 'Male'], loc='lower right')\n",
    "j6 = plt.show()"
   ]
  },
  {
   "cell_type": "markdown",
   "metadata": {},
   "source": [
    "For the two sample ttest, hypotheses are:\n",
    "\n",
    "H0 : Female and Male Body Temperature has equal means.\n",
    "H1 : Female and Male BOdy Temperature doesn't have equal means.\n",
    "\n"
   ]
  },
  {
   "cell_type": "code",
   "execution_count": 209,
   "metadata": {},
   "outputs": [
    {
     "name": "stdout",
     "output_type": "stream",
     "text": [
      "t-score is : 2.2854345381656103 p-value is : 0.02393188312239561\n",
      "0.02393188312239561 is smaller than 0.05 selected alpha value and H0 is rejected. Female and Male body temperature doesn't have same means\n"
     ]
    }
   ],
   "source": [
    "#frequentist approach\n",
    "\n",
    "t_score_gender, p_value_gender = stats.ttest_ind(fem_temp, mal_temp)\n",
    "print('t-score is :', t_score_gender, 'p-value is :', p_value_gender)\n",
    "\n",
    "if p_value_gender <= 0.05:\n",
    "    print(p_value_gender,\"is smaller than 0.05 selected alpha value and H0 is rejected. Female and Male body temperature doesn't have same means\")\n",
    "else:\n",
    "    print(p_value_gender, \"is not smaller than selected alpha, H0 can't be rejected.\")"
   ]
  },
  {
   "cell_type": "code",
   "execution_count": 221,
   "metadata": {},
   "outputs": [
    {
     "name": "stdout",
     "output_type": "stream",
     "text": [
      "0.012 is smaller than 0.05 selected alpha value and H0 is rejected. Female and Male body temperature doesn't have same means\n"
     ]
    }
   ],
   "source": [
    "#hacker statistics - permutation hacking 1000 boostrap sample\n",
    "def boost_perm(data1, data2, size=1):\n",
    "   \n",
    "    perm_boost = np.empty(size)\n",
    "    permutation = np.empty(size)\n",
    "    \n",
    "    for i in range(size):\n",
    "        \n",
    "        permutation = np.random.permutation(np.concatenate((data1, data2)))\n",
    "        perm_samp1 = permutation[:len(data1)]\n",
    "        perm_samp2 = permutation[len(data1):]\n",
    "        perm_boost[i] = np.mean(perm_samp1) - np.mean(perm_samp2)\n",
    "\n",
    "    return perm_boost\n",
    "\n",
    "test_perm = boost_perm(fem_temp, mal_temp, size=1000)\n",
    "\n",
    "p_perm = np.sum(test_perm>=(np.mean(fem_temp)-np.mean(mal_temp)))/len(test_perm)\n",
    "\n",
    "if p_perm <= 0.05:\n",
    "    print(p_perm,\"is smaller than 0.05 selected alpha value and H0 is rejected. Female and Male body temperature doesn't have same means\")\n",
    "else:\n",
    "    print(p_perm, \"is not smaller than selected alpha, H0 can't be rejected.\")\n",
    "\n",
    "\n",
    "\n"
   ]
  },
  {
   "cell_type": "markdown",
   "metadata": {},
   "source": [
    "To compare means of the two samples, if the samples are independent and if the both datasets are available two sample independent t test is the test to be used as frequentist. Also, hacker statistics can be used, permutation test can be used since the samples are coming from the same population and the two different sub-samples we are tryinh to test is gender difference."
   ]
  },
  {
   "cell_type": "code",
   "execution_count": 225,
   "metadata": {},
   "outputs": [
    {
     "data": {
      "image/png": "[encoded data removed]",
      "text/plain": [
       "<Figure size 432x288 with 1 Axes>"
      ]
     },
     "metadata": {
      "needs_background": "light"
     },
     "output_type": "display_data"
    }
   ],
   "source": [
    "j7 = sns.scatterplot(df.temperature, df.heart_rate)\n",
    "j7 = plt.show()"
   ]
  },
  {
   "cell_type": "code",
   "execution_count": 238,
   "metadata": {},
   "outputs": [
    {
     "data": {
      "image/png": "[encoded data removed]",
      "text/plain": [
       "<Figure size 432x288 with 1 Axes>"
      ]
     },
     "metadata": {
      "needs_background": "light"
     },
     "output_type": "display_data"
    },
    {
     "data": {
      "image/png": "[encoded data removed]",
      "text/plain": [
       "<Figure size 432x288 with 1 Axes>"
      ]
     },
     "metadata": {
      "needs_background": "light"
     },
     "output_type": "display_data"
    },
    {
     "data": {
      "image/png": "[encoded data removed]",
      "text/plain": [
       "<Figure size 432x288 with 1 Axes>"
      ]
     },
     "metadata": {
      "needs_background": "light"
     },
     "output_type": "display_data"
    },
    {
     "data": {
      "image/png": "[encoded data removed]",
      "text/plain": [
       "<Figure size 432x288 with 1 Axes>"
      ]
     },
     "metadata": {
      "needs_background": "light"
     },
     "output_type": "display_data"
    },
    {
     "name": "stdout",
     "output_type": "stream",
     "text": [
      "fem temp*rate corr : [[1.         0.28693115]\n",
      " [0.28693115 1.        ]]\n",
      "mal temp*rate corr : [[1.         0.19558938]\n",
      " [0.19558938 1.        ]]\n"
     ]
    }
   ],
   "source": [
    "j8 = sns.scatterplot(fem_df.temperature, fem_df.heart_rate, color='red', alpha=0.5)\n",
    "j8 = plt.xlabel('Female Body Temperature degF')\n",
    "j8 = plt.ylabel('Heart Rate')\n",
    "af, bf = np.polyfit(fem_df.temperature, fem_df.heart_rate, deg=1)\n",
    "xf = np.array([95, 102])\n",
    "yf = af * xf + bf\n",
    "j8 = plt.plot(xf, yf)\n",
    "j8 = plt.show()\n",
    "j9 = sns.scatterplot(mal_df.temperature, mal_df.heart_rate, color='blue', alpha=0.5)\n",
    "j9 = plt.xlabel('Male Body Temperature degF')\n",
    "j9 = plt.ylabel('Heart Rate')\n",
    "am, bm = np.polyfit(mal_df.temperature, mal_df.heart_rate, deg=1)\n",
    "xm = np.array([95, 102])\n",
    "ym = am * xm + bm\n",
    "j9 = plt.plot(xm, ym)\n",
    "j9 = plt.show()\n",
    "j10 = sns.scatterplot(fem_df.temperature, fem_df.heart_rate, color='red', alpha=0.5)\n",
    "j10 = sns.scatterplot(mal_df.temperature, mal_df.heart_rate, color='blue', alpha=0.5)\n",
    "aw, bw = np.polyfit(df.temperature, df.heart_rate, deg=1)\n",
    "xw = np.array([95, 102])\n",
    "yw = aw * xw + bw\n",
    "j10 = plt.plot(xw, yw)\n",
    "j10 = plt.legend(['Female', 'Male'], loc='lower right')\n",
    "j10 = plt.show()\n",
    "j11 = sns.boxplot(y=df.temperature, x=df.gender)\n",
    "j11 = plt.xlabel('gender distribution')\n",
    "j11 = plt.show()\n",
    "\n",
    "fem_corr = np.corrcoef(fem_df.temperature, fem_df.heart_rate)\n",
    "print('fem temp*rate corr :', fem_corr)\n",
    "\n",
    "mal_corr = np.corrcoef(mal_df.temperature, mal_df.heart_rate)\n",
    "print('mal temp*rate corr :', mal_corr)"
   ]
  },
  {
   "cell_type": "markdown",
   "metadata": {},
   "source": [
    "Hutchinson et al. reported that average normal human body temperature is 98.6 degF with (97.7 degF and 99.5 degF) 'Hutchison, James S.; et al. (June 2008). \"Hypothermia therapy after traumatic brain injury in children\". New England Journal of Medicine. 358 (23): 2447–2456.'\n",
    "\n",
    "In our research, our data is collected from 130 different cases both men and women with different heart rate measurements. We have tested our data in two different scenarios, our research questions are:\n",
    "\n",
    "Is average body temperature is 98.6 degF?\n",
    "\n",
    "Is there a difference between men and women average body temperatures?\n",
    "\n",
    "I also added some visual graphs to check is there any correlation between heart rate and body temperature in terms of gender difference.\n",
    "\n",
    "Our data showed that mean human body temperature is STATISTICALLY different than 98.6 degF. Our one sample t-test and bootstrap test rejected our H0 hypotesis, which is mean human body temperature is 98.6 degF.\n",
    "\n",
    "We also checked that gender differences on human body temperature, but our classical 2 independent sample t-test and bootstrap test showed that there is a STATISTICAL difference between gender's mean body temperature. \n",
    "\n",
    "Last graphs are showing that there are almost no correlation between idle state heart rates and body temperatures. Correlations are 0.28 in females and 0.19 in males."
   ]
  },
  {
   "cell_type": "code",
   "execution_count": null,
   "metadata": {},
   "outputs": [],
   "source": []
  },
  {
   "cell_type": "code",
   "execution_count": null,
   "metadata": {},
   "outputs": [],
   "source": []
  },
  {
   "cell_type": "code",
   "execution_count": null,
   "metadata": {},
   "outputs": [],
   "source": []
  },
  {
   "cell_type": "code",
   "execution_count": null,
   "metadata": {},
   "outputs": [],
   "source": []
  },
  {
   "cell_type": "code",
   "execution_count": null,
   "metadata": {},
   "outputs": [],
   "source": []
  },
  {
   "cell_type": "code",
   "execution_count": null,
   "metadata": {},
   "outputs": [],
   "source": []
  },
  {
   "cell_type": "code",
   "execution_count": null,
   "metadata": {},
   "outputs": [],
   "source": []
  },
  {
   "cell_type": "code",
   "execution_count": null,
   "metadata": {},
   "outputs": [],
   "source": []
  },
  {
   "cell_type": "code",
   "execution_count": null,
   "metadata": {},
   "outputs": [],
   "source": []
  },
  {
   "cell_type": "code",
   "execution_count": null,
   "metadata": {},
   "outputs": [],
   "source": []
  },
  {
   "cell_type": "code",
   "execution_count": null,
   "metadata": {},
   "outputs": [],
   "source": []
  },
  {
   "cell_type": "code",
   "execution_count": null,
   "metadata": {},
   "outputs": [],
   "source": []
  },
  {
   "cell_type": "code",
   "execution_count": null,
   "metadata": {},
   "outputs": [],
   "source": []
  },
  {
   "cell_type": "code",
   "execution_count": null,
   "metadata": {},
   "outputs": [],
   "source": []
  },
  {
   "cell_type": "code",
   "execution_count": null,
   "metadata": {},
   "outputs": [],
   "source": []
  },
  {
   "cell_type": "code",
   "execution_count": null,
   "metadata": {},
   "outputs": [],
   "source": []
  },
  {
   "cell_type": "code",
   "execution_count": null,
   "metadata": {},
   "outputs": [],
   "source": []
  },
  {
   "cell_type": "code",
   "execution_count": null,
   "metadata": {},
   "outputs": [],
   "source": []
  }
 ],
 "metadata": {
  "kernelspec": {
   "display_name": "Python 3",
   "language": "python",
   "name": "python3"
  },
  "language_info": {
   "codemirror_mode": {
    "name": "ipython",
    "version": 3
   },
   "file_extension": ".py",
   "mimetype": "text/x-python",
   "name": "python",
   "nbconvert_exporter": "python",
   "pygments_lexer": "ipython3",
   "version": "3.7.1"
  }
 },
 "nbformat": 4,
 "nbformat_minor": 1
}
