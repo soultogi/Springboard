{
 "cells": [
  {
   "cell_type": "markdown",
   "metadata": {},
   "source": [
    "# Examining Racial Discrimination in the US Job Market\n",
    "\n",
    "### Background\n",
    "Racial discrimination continues to be pervasive in cultures throughout the world. Researchers examined the level of racial discrimination in the United States labor market by randomly assigning identical résumés to black-sounding or white-sounding names and observing the impact on requests for interviews from employers.\n",
    "\n",
    "### Data\n",
    "In the dataset provided, each row represents a resume. The 'race' column has two values, 'b' and 'w', indicating black-sounding and white-sounding. The column 'call' has two values, 1 and 0, indicating whether the resume received a call from employers or not.\n",
    "\n",
    "Note that the 'b' and 'w' values in race are assigned randomly to the resumes when presented to the employer."
   ]
  },
  {
   "cell_type": "markdown",
   "metadata": {},
   "source": [
    "### Exercises\n",
    "You will perform a statistical analysis to establish whether race has a significant impact on the rate of callbacks for resumes.\n",
    "\n",
    "Answer the following questions **in this notebook below and submit to your Github account**. \n",
    "\n",
    "   1. What test is appropriate for this problem? Does CLT apply?\n",
    "   2. What are the null and alternate hypotheses?\n",
    "   3. Compute margin of error, confidence interval, and p-value. Try using both the bootstrapping and the frequentist statistical approaches.\n",
    "   4. Write a story describing the statistical significance in the context or the original problem.\n",
    "   5. Does your analysis mean that race/name is the most important factor in callback success? Why or why not? If not, how would you amend your analysis?\n",
    "\n",
    "You can include written notes in notebook cells using Markdown: \n",
    "   - In the control panel at the top, choose Cell > Cell Type > Markdown\n",
    "   - Markdown syntax: http://nestacms.com/docs/creating-content/markdown-cheat-sheet\n",
    "\n",
    "#### Resources\n",
    "+ Experiment information and data source: http://www.povertyactionlab.org/evaluation/discrimination-job-market-united-states\n",
    "+ Scipy statistical methods: http://docs.scipy.org/doc/scipy/reference/stats.html \n",
    "+ Markdown syntax: http://nestacms.com/docs/creating-content/markdown-cheat-sheet\n",
    "+ Formulas for the Bernoulli distribution: https://en.wikipedia.org/wiki/Bernoulli_distribution"
   ]
  },
  {
   "cell_type": "code",
   "execution_count": 2,
   "metadata": {},
   "outputs": [],
   "source": [
    "import pandas as pd\n",
    "import numpy as np\n",
    "from scipy import stats"
   ]
  },
  {
   "cell_type": "code",
   "execution_count": 3,
   "metadata": {},
   "outputs": [],
   "source": [
    "data = pd.io.stata.read_stata('data/us_job_market_discrimination.dta')"
   ]
  },
  {
   "cell_type": "code",
   "execution_count": 17,
   "metadata": {},
   "outputs": [
    {
     "name": "stdout",
     "output_type": "stream",
     "text": [
      "Number of black sounding names called to interview : 157.0\n",
      "Number of white sounding names called to interview : 235.0\n"
     ]
    }
   ],
   "source": [
    "# number of callbacks for black-sounding names\n",
    "print('Number of black sounding names called to interview :', sum(data[data.race=='b'].call))\n",
    "print('Number of white sounding names called to interview :', sum(data[data.race=='w'].call))"
   ]
  },
  {
   "cell_type": "code",
   "execution_count": 5,
   "metadata": {
    "scrolled": false
   },
   "outputs": [
    {
     "data": {
      "text/html": [
       "<div>\n",
       "<style scoped>\n",
       "    .dataframe tbody tr th:only-of-type {\n",
       "        vertical-align: middle;\n",
       "    }\n",
       "\n",
       "    .dataframe tbody tr th {\n",
       "        vertical-align: top;\n",
       "    }\n",
       "\n",
       "    .dataframe thead th {\n",
       "        text-align: right;\n",
       "    }\n",
       "</style>\n",
       "<table border=\"1\" class=\"dataframe\">\n",
       "  <thead>\n",
       "    <tr style=\"text-align: right;\">\n",
       "      <th></th>\n",
       "      <th>id</th>\n",
       "      <th>ad</th>\n",
       "      <th>education</th>\n",
       "      <th>ofjobs</th>\n",
       "      <th>yearsexp</th>\n",
       "      <th>honors</th>\n",
       "      <th>volunteer</th>\n",
       "      <th>military</th>\n",
       "      <th>empholes</th>\n",
       "      <th>occupspecific</th>\n",
       "      <th>...</th>\n",
       "      <th>compreq</th>\n",
       "      <th>orgreq</th>\n",
       "      <th>manuf</th>\n",
       "      <th>transcom</th>\n",
       "      <th>bankreal</th>\n",
       "      <th>trade</th>\n",
       "      <th>busservice</th>\n",
       "      <th>othservice</th>\n",
       "      <th>missind</th>\n",
       "      <th>ownership</th>\n",
       "    </tr>\n",
       "  </thead>\n",
       "  <tbody>\n",
       "    <tr>\n",
       "      <th>0</th>\n",
       "      <td>b</td>\n",
       "      <td>1</td>\n",
       "      <td>4</td>\n",
       "      <td>2</td>\n",
       "      <td>6</td>\n",
       "      <td>0</td>\n",
       "      <td>0</td>\n",
       "      <td>0</td>\n",
       "      <td>1</td>\n",
       "      <td>17</td>\n",
       "      <td>...</td>\n",
       "      <td>1.0</td>\n",
       "      <td>0.0</td>\n",
       "      <td>1.0</td>\n",
       "      <td>0.0</td>\n",
       "      <td>0.0</td>\n",
       "      <td>0.0</td>\n",
       "      <td>0.0</td>\n",
       "      <td>0.0</td>\n",
       "      <td>0.0</td>\n",
       "      <td></td>\n",
       "    </tr>\n",
       "    <tr>\n",
       "      <th>1</th>\n",
       "      <td>b</td>\n",
       "      <td>1</td>\n",
       "      <td>3</td>\n",
       "      <td>3</td>\n",
       "      <td>6</td>\n",
       "      <td>0</td>\n",
       "      <td>1</td>\n",
       "      <td>1</td>\n",
       "      <td>0</td>\n",
       "      <td>316</td>\n",
       "      <td>...</td>\n",
       "      <td>1.0</td>\n",
       "      <td>0.0</td>\n",
       "      <td>1.0</td>\n",
       "      <td>0.0</td>\n",
       "      <td>0.0</td>\n",
       "      <td>0.0</td>\n",
       "      <td>0.0</td>\n",
       "      <td>0.0</td>\n",
       "      <td>0.0</td>\n",
       "      <td></td>\n",
       "    </tr>\n",
       "    <tr>\n",
       "      <th>2</th>\n",
       "      <td>b</td>\n",
       "      <td>1</td>\n",
       "      <td>4</td>\n",
       "      <td>1</td>\n",
       "      <td>6</td>\n",
       "      <td>0</td>\n",
       "      <td>0</td>\n",
       "      <td>0</td>\n",
       "      <td>0</td>\n",
       "      <td>19</td>\n",
       "      <td>...</td>\n",
       "      <td>1.0</td>\n",
       "      <td>0.0</td>\n",
       "      <td>1.0</td>\n",
       "      <td>0.0</td>\n",
       "      <td>0.0</td>\n",
       "      <td>0.0</td>\n",
       "      <td>0.0</td>\n",
       "      <td>0.0</td>\n",
       "      <td>0.0</td>\n",
       "      <td></td>\n",
       "    </tr>\n",
       "    <tr>\n",
       "      <th>3</th>\n",
       "      <td>b</td>\n",
       "      <td>1</td>\n",
       "      <td>3</td>\n",
       "      <td>4</td>\n",
       "      <td>6</td>\n",
       "      <td>0</td>\n",
       "      <td>1</td>\n",
       "      <td>0</td>\n",
       "      <td>1</td>\n",
       "      <td>313</td>\n",
       "      <td>...</td>\n",
       "      <td>1.0</td>\n",
       "      <td>0.0</td>\n",
       "      <td>1.0</td>\n",
       "      <td>0.0</td>\n",
       "      <td>0.0</td>\n",
       "      <td>0.0</td>\n",
       "      <td>0.0</td>\n",
       "      <td>0.0</td>\n",
       "      <td>0.0</td>\n",
       "      <td></td>\n",
       "    </tr>\n",
       "    <tr>\n",
       "      <th>4</th>\n",
       "      <td>b</td>\n",
       "      <td>1</td>\n",
       "      <td>3</td>\n",
       "      <td>3</td>\n",
       "      <td>22</td>\n",
       "      <td>0</td>\n",
       "      <td>0</td>\n",
       "      <td>0</td>\n",
       "      <td>0</td>\n",
       "      <td>313</td>\n",
       "      <td>...</td>\n",
       "      <td>1.0</td>\n",
       "      <td>1.0</td>\n",
       "      <td>0.0</td>\n",
       "      <td>0.0</td>\n",
       "      <td>0.0</td>\n",
       "      <td>0.0</td>\n",
       "      <td>0.0</td>\n",
       "      <td>1.0</td>\n",
       "      <td>0.0</td>\n",
       "      <td>Nonprofit</td>\n",
       "    </tr>\n",
       "  </tbody>\n",
       "</table>\n",
       "<p>5 rows × 65 columns</p>\n",
       "</div>"
      ],
      "text/plain": [
       "  id ad  education  ofjobs  yearsexp  honors  volunteer  military  empholes  \\\n",
       "0  b  1          4       2         6       0          0         0         1   \n",
       "1  b  1          3       3         6       0          1         1         0   \n",
       "2  b  1          4       1         6       0          0         0         0   \n",
       "3  b  1          3       4         6       0          1         0         1   \n",
       "4  b  1          3       3        22       0          0         0         0   \n",
       "\n",
       "   occupspecific    ...      compreq  orgreq  manuf  transcom  bankreal trade  \\\n",
       "0             17    ...          1.0     0.0    1.0       0.0       0.0   0.0   \n",
       "1            316    ...          1.0     0.0    1.0       0.0       0.0   0.0   \n",
       "2             19    ...          1.0     0.0    1.0       0.0       0.0   0.0   \n",
       "3            313    ...          1.0     0.0    1.0       0.0       0.0   0.0   \n",
       "4            313    ...          1.0     1.0    0.0       0.0       0.0   0.0   \n",
       "\n",
       "  busservice othservice  missind  ownership  \n",
       "0        0.0        0.0      0.0             \n",
       "1        0.0        0.0      0.0             \n",
       "2        0.0        0.0      0.0             \n",
       "3        0.0        0.0      0.0             \n",
       "4        0.0        1.0      0.0  Nonprofit  \n",
       "\n",
       "[5 rows x 65 columns]"
      ]
     },
     "execution_count": 5,
     "metadata": {},
     "output_type": "execute_result"
    }
   ],
   "source": [
    "data.head()"
   ]
  },
  {
   "cell_type": "markdown",
   "metadata": {
    "collapsed": true
   },
   "source": [
    "<div class=\"span5 alert alert-success\">\n",
    "<p>Your answers to Q1 and Q2 here</p>\n",
    "</div>"
   ]
  },
  {
   "cell_type": "markdown",
   "metadata": {},
   "source": [
    "The research case we are looking for is a binomial situation. b and w labels assigned randomly to the cases, each call is independent from the other. When the n is large enough, binomial distribution approximates to the normal distribution and so calculations will be more simpler and easier. The assumption on this n large enough is\n",
    "\n",
    "np >= 10\n",
    "nq >= 10\n",
    "\n",
    "in our case, white call rate*n > 10, black call rate*n > 10 , white not call rate*n > 10, black not call rate*n > 10\n",
    "\n",
    "sample is large enough, samples are independent, CLT applicable."
   ]
  },
  {
   "cell_type": "code",
   "execution_count": 32,
   "metadata": {},
   "outputs": [
    {
     "name": "stdout",
     "output_type": "stream",
     "text": [
      "white calls\n",
      "count    2435.000000\n",
      "mean        0.096509\n",
      "std         0.295346\n",
      "min         0.000000\n",
      "25%         0.000000\n",
      "50%         0.000000\n",
      "75%         0.000000\n",
      "max         1.000000\n",
      "Name: call, dtype: float64\n",
      "black calls\n",
      "count    2435.000000\n",
      "mean        0.064476\n",
      "std         0.245649\n",
      "min         0.000000\n",
      "25%         0.000000\n",
      "50%         0.000000\n",
      "75%         0.000000\n",
      "max         1.000000\n",
      "Name: call, dtype: float64\n",
      "white unique values\n",
      "[0. 1.]\n",
      "black unique values\n",
      "[0. 1.]\n",
      "white call count\n",
      "235.0\n",
      "black call count\n",
      "157.0\n",
      "white call ratio : 0.09650924056768417\n",
      "black call ratio : 0.0644763857126236\n",
      "general white call ratio\n",
      "0.048254620123203286\n",
      "general black call ratio\n",
      "0.03223819301848049\n"
     ]
    }
   ],
   "source": [
    "w = data[data.race=='w']\n",
    "b = data[data.race=='b']\n",
    "\n",
    "print('white calls')\n",
    "print(w.call.describe())\n",
    "print('black calls')\n",
    "print(b.call.describe())\n",
    "print('white unique values')\n",
    "print(w.call.unique())\n",
    "print('black unique values')\n",
    "print(b.call.unique())\n",
    "print('white call count')\n",
    "print(np.sum(w.call))\n",
    "print('black call count')\n",
    "print(np.sum(b.call))\n",
    "\n",
    "w_rat = np.mean(w.call)\n",
    "b_rat = np.mean(b.call)\n",
    "print('white call ratio :', w_rat)\n",
    "print('black call ratio :', b_rat)\n",
    "\n",
    "\n",
    "print('general white call ratio')\n",
    "w_ratgen = np.sum(w.call)/len(data.call)\n",
    "print(w_ratgen)\n",
    "\n",
    "print('general black call ratio')\n",
    "\n",
    "b_ratgen = np.sum(b.call)/len(data.call) \n",
    "print(b_ratgen)\n",
    "\n",
    "\n",
    "# since the call is a dichotom variable with unique values 0 and 1, mean is also ratio\n",
    "# Is there any differences between white call ratio and black call ratio?\n",
    "# H0 : white call ratio equals to black call ratio\n",
    "# H1 : white call ratio is not equal to black call ratio"
   ]
  },
  {
   "cell_type": "code",
   "execution_count": 40,
   "metadata": {},
   "outputs": [
    {
     "name": "stdout",
     "output_type": "stream",
     "text": [
      "4e-05  <= 0.05, so H0 is rejected. There is a statistically significant difference between call rates\n"
     ]
    }
   ],
   "source": [
    "t_score, p_value = stats.ttest_ind(w.call, b.call)\n",
    "if p_value <= 0.05:\n",
    "    print(round(p_value, 5), ' <= 0.05, so H0 is rejected. There is a statistically significant difference between call rates')\n",
    "else:\n",
    "          print(round(p_value, 5), ' > 0.05, H0 cant be rejected.')"
   ]
  },
  {
   "cell_type": "code",
   "execution_count": 45,
   "metadata": {},
   "outputs": [
    {
     "name": "stdout",
     "output_type": "stream",
     "text": [
      "0.0 is smaller than 0.05 selected alpha value and H0 is rejected. White and Black interview call rates are not equal.\n"
     ]
    }
   ],
   "source": [
    "#this can be also tested via permutation bootstrapping methods\n",
    "def boost_perm(data1, data2, size=1):\n",
    "   \n",
    "    perm_boost = np.empty(size)\n",
    "    permutation = np.empty(size)\n",
    "    \n",
    "    for i in range(size):\n",
    "        \n",
    "        permutation = np.random.permutation(np.concatenate((data1, data2)))\n",
    "        perm_samp1 = permutation[:len(data1)]\n",
    "        perm_samp2 = permutation[len(data1):]\n",
    "        perm_boost[i] = np.mean(perm_samp1) - np.mean(perm_samp2)\n",
    "\n",
    "    return perm_boost\n",
    "\n",
    "test_perm = boost_perm(w.call, b.call, size=10000)\n",
    "\n",
    "p_perm = np.sum(test_perm>=(np.mean(w.call)-np.mean(b.call)))/len(test_perm)\n",
    "\n",
    "if p_perm <= 0.05:\n",
    "    print(p_perm, \"is smaller than 0.05 selected alpha value and H0 is rejected. White and Black interview call rates are not equal.\")\n",
    "else:\n",
    "    print(p_perm, \"is not smaller than selected alpha, H0 can't be rejected.\")\n"
   ]
  },
  {
   "cell_type": "code",
   "execution_count": 48,
   "metadata": {},
   "outputs": [
    {
     "name": "stdout",
     "output_type": "stream",
     "text": [
      "white SEM :  0.005985301397503016\n",
      "black SEM :  0.0049781434352911685\n"
     ]
    }
   ],
   "source": [
    "w_sem = stats.sem(w.call)\n",
    "b_sem = stats.sem(b.call)\n",
    "\n",
    "print('white SEM : ', w_sem)\n",
    "print('black SEM : ', b_sem)\n"
   ]
  },
  {
   "cell_type": "code",
   "execution_count": 50,
   "metadata": {},
   "outputs": [
    {
     "name": "stdout",
     "output_type": "stream",
     "text": [
      "white call CI : (Mean(statistic=0.09650924056768417, minmax=(0.08666631755160376, 0.10635216358376459)), Variance(statistic=0.08719521015882492, minmax=(0.08308479772540164, 0.0913056225922482)), Std_dev(statistic=0.2952883508688159, minmax=(0.28832835325744827, 0.3022483484801835)))\n",
      "black call CI : (Mean(statistic=0.0644763857126236, minmax=(0.05628974971854314, 0.07266302170670405)), Variance(statistic=0.06031917780637741, minmax=(0.05747571085472273, 0.0631626447580321)), Std_dev(statistic=0.24559962908436447, minmax=(0.23981080325784432, 0.25138845491088463)))\n"
     ]
    }
   ],
   "source": [
    "print('white call CI :', stats.bayes_mvs(w.call))\n",
    "print('black call CI :', stats.bayes_mvs(b.call))"
   ]
  },
  {
   "cell_type": "markdown",
   "metadata": {
    "collapsed": true
   },
   "source": [
    "Compute margin of error, confidence interval, and p-value. Try using both the bootstrapping and the frequentist statistical approaches.\n",
    "\n",
    "\n",
    "\n",
    "Although our anaylsis can show the race effect on interview calls, race is not the only variable to measure, as can be seen in the data set there are 65 columns about the resumes, positions, education, age, gender, etc. These variables definitely has some effect on the calling to the interview, in order for more scientific and accurate call rate prediction regression models should be apllied."
   ]
  }
 ],
 "metadata": {
  "kernelspec": {
   "display_name": "Python 3",
   "language": "python",
   "name": "python3"
  },
  "language_info": {
   "codemirror_mode": {
    "name": "ipython",
    "version": 3
   },
   "file_extension": ".py",
   "mimetype": "text/x-python",
   "name": "python",
   "nbconvert_exporter": "python",
   "pygments_lexer": "ipython3",
   "version": "3.7.1"
  }
 },
 "nbformat": 4,
 "nbformat_minor": 1
}
